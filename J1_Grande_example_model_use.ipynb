{
 "cells": [
  {
   "cell_type": "markdown",
   "metadata": {},
   "source": [
    "# Using Jurassic-1 Grande on SageMaker through Model Packages\n",
    "\n",
    "This sample notebook shows you how to deploy Jurassic-1 Grande using Amazon SageMaker.\n",
    "\n",
    "> **Note**: This is a reference notebook and it cannot run unless you make changes suggested in the notebook.\n",
    "\n",
    "## Pre-requisites:\n",
    "1. Before running this notebook, please make sure you got this notebook from the model catalog on SageMaker AWS Management Console.\n",
    "1. **Note**: This notebook contains elements which render correctly in Jupyter interface. Open this notebook from an Amazon SageMaker Notebook Instance or Amazon SageMaker Studio.\n",
    "1. Ensure that IAM role used has **AmazonSageMakerFullAccess**.\n",
    "1. This noebook is intended to work with **boto3 v1.25.4** or higher.\n",
    "\n",
    "## Contents:\n",
    "1. [Select model package](#1.-Subscribe-to-the-model-package)\n",
    "2. [Create an endpoint and perform real-time inference](#2.-Create-an-endpoint-and-perform-real-time-inference)\n",
    "   1. [Create an endpoint](#A.-Create-an-endpoint)\n",
    "   2. [Create an input prompt](#B.-Create-an-input-prompt)\n",
    "   3. [Perform real-time inference](#C.-Perform-real-time-inference)\n",
    "   4. [Create your own CV Profile!](#D.-Create-your-own-CV-Profile!)\n",
    "   5. [Delete the endpoint](#E.-Delete-the-endpoint)\n",
    "3. [Clean-up](#4.-Clean-up)\n",
    "    1. [Delete the model](#A.-Delete-the-model)\n",
    "    \n",
    "\n",
    "## Usage instructions\n",
    "You can run this notebook one cell at a time (By using Shift+Enter for running a cell)."
   ]
  },
  {
   "cell_type": "markdown",
   "metadata": {},
   "source": [
    "## 1. Select to the model package\n",
    "Confirm that you recieved this notebook from model catalog on SageMaker AWS Management Console."
   ]
  },
  {
   "cell_type": "code",
   "execution_count": 10,
   "metadata": {},
   "outputs": [],
   "source": [
    "# Mapping for Model Packages (initially only us-east-1 and eu-west-1 is supported)\n",
    "model_package_map = {\n",
    "    \"us-east-1\": \"arn:aws:sagemaker:us-east-1:416407187090:model-package/j1-grande-dbf0249\",\n",
    "#     \"eu-west-1\": \"\",\n",
    "}"
   ]
  },
  {
   "cell_type": "code",
   "execution_count": 2,
   "metadata": {},
   "outputs": [],
   "source": [
    "import json\n",
    "from sagemaker import ModelPackage\n",
    "from sagemaker import get_execution_role\n",
    "from sagemaker import ModelPackage\n",
    "import sagemaker as sage\n",
    "import boto3"
   ]
  },
  {
   "cell_type": "code",
   "execution_count": 3,
   "metadata": {},
   "outputs": [
    {
     "name": "stdout",
     "output_type": "stream",
     "text": [
      "Looking in indexes: https://pypi.org/simple, https://pip.repos.neuron.amazonaws.com\n",
      "Requirement already satisfied: ai21-python-client[SM] in /home/ec2-user/anaconda3/envs/tensorflow2_p38/lib/python3.8/site-packages (0.0.1)\n",
      "Requirement already satisfied: requests in /home/ec2-user/anaconda3/envs/tensorflow2_p38/lib/python3.8/site-packages (from ai21-python-client[SM]) (2.26.0)\n",
      "Requirement already satisfied: boto3 in /home/ec2-user/anaconda3/envs/tensorflow2_p38/lib/python3.8/site-packages (from ai21-python-client[SM]) (1.26.8)\n",
      "Requirement already satisfied: s3transfer<0.7.0,>=0.6.0 in /home/ec2-user/anaconda3/envs/tensorflow2_p38/lib/python3.8/site-packages (from boto3->ai21-python-client[SM]) (0.6.0)\n",
      "Requirement already satisfied: botocore<1.30.0,>=1.29.8 in /home/ec2-user/anaconda3/envs/tensorflow2_p38/lib/python3.8/site-packages (from boto3->ai21-python-client[SM]) (1.29.8)\n",
      "Requirement already satisfied: jmespath<2.0.0,>=0.7.1 in /home/ec2-user/anaconda3/envs/tensorflow2_p38/lib/python3.8/site-packages (from boto3->ai21-python-client[SM]) (0.10.0)\n",
      "Requirement already satisfied: certifi>=2017.4.17 in /home/ec2-user/anaconda3/envs/tensorflow2_p38/lib/python3.8/site-packages (from requests->ai21-python-client[SM]) (2021.10.8)\n",
      "Requirement already satisfied: idna<4,>=2.5 in /home/ec2-user/anaconda3/envs/tensorflow2_p38/lib/python3.8/site-packages (from requests->ai21-python-client[SM]) (3.1)\n",
      "Requirement already satisfied: charset-normalizer~=2.0.0 in /home/ec2-user/anaconda3/envs/tensorflow2_p38/lib/python3.8/site-packages (from requests->ai21-python-client[SM]) (2.0.7)\n",
      "Requirement already satisfied: urllib3<1.27,>=1.21.1 in /home/ec2-user/anaconda3/envs/tensorflow2_p38/lib/python3.8/site-packages (from requests->ai21-python-client[SM]) (1.26.8)\n",
      "Requirement already satisfied: python-dateutil<3.0.0,>=2.1 in /home/ec2-user/anaconda3/envs/tensorflow2_p38/lib/python3.8/site-packages (from botocore<1.30.0,>=1.29.8->boto3->ai21-python-client[SM]) (2.8.2)\n",
      "Requirement already satisfied: six>=1.5 in /home/ec2-user/anaconda3/envs/tensorflow2_p38/lib/python3.8/site-packages (from python-dateutil<3.0.0,>=2.1->botocore<1.30.0,>=1.29.8->boto3->ai21-python-client[SM]) (1.16.0)\n",
      "\u001b[33mWARNING: You are using pip version 22.0.4; however, version 22.3.1 is available.\n",
      "You should consider upgrading via the '/home/ec2-user/anaconda3/envs/tensorflow2_p38/bin/python -m pip install --upgrade pip' command.\u001b[0m\u001b[33m\n",
      "\u001b[0m"
     ]
    }
   ],
   "source": [
    "! pip install -U ai21-python-client[SM]\n",
    "import ai21"
   ]
  },
  {
   "cell_type": "code",
   "execution_count": 4,
   "metadata": {},
   "outputs": [],
   "source": [
    "region = boto3.Session().region_name\n",
    "if region not in model_package_map.keys():\n",
    "    raise (\"UNSUPPORTED REGION\")\n",
    "\n",
    "model_package_arn = model_package_map[region]"
   ]
  },
  {
   "cell_type": "code",
   "execution_count": 5,
   "metadata": {},
   "outputs": [],
   "source": [
    "role = get_execution_role()\n",
    "sagemaker_session = sage.Session()\n",
    "\n",
    "runtime_sm_client = boto3.client(\"runtime.sagemaker\")"
   ]
  },
  {
   "cell_type": "markdown",
   "metadata": {},
   "source": [
    "## 2. Create an endpoint and perform real-time inference"
   ]
  },
  {
   "cell_type": "markdown",
   "metadata": {},
   "source": [
    "If you want to understand how real-time inference with Amazon SageMaker works, see [Documentation](https://docs.aws.amazon.com/sagemaker/latest/dg/deploy-model.html)."
   ]
  },
  {
   "cell_type": "code",
   "execution_count": 6,
   "metadata": {},
   "outputs": [],
   "source": [
    "model_name = \"j1-grande\"\n",
    "\n",
    "content_type = \"application/json\"\n",
    "\n",
    "real_time_inference_instance_type = (\n",
    "    \"ml.g5.12xlarge\"\n",
    ")"
   ]
  },
  {
   "cell_type": "markdown",
   "metadata": {},
   "source": [
    "### A. Create an endpoint"
   ]
  },
  {
   "cell_type": "code",
   "execution_count": 8,
   "metadata": {},
   "outputs": [
    {
     "name": "stdout",
     "output_type": "stream",
     "text": [
      "---------------!"
     ]
    }
   ],
   "source": [
    "# create a deployable model from the model package.\n",
    "model = ModelPackage(\n",
    "    role=role, model_package_arn=model_package_arn, sagemaker_session=sagemaker_session\n",
    ")\n",
    "\n",
    "# Deploy the model\n",
    "predictor = model.deploy(1, real_time_inference_instance_type, endpoint_name=model_name, \n",
    "                         model_data_download_timeout=3600,\n",
    "                         container_startup_health_check_timeout=600,\n",
    "                        )"
   ]
  },
  {
   "cell_type": "markdown",
   "metadata": {},
   "source": [
    "Once endpoint has been created, you would be able to perform real-time inference."
   ]
  },
  {
   "cell_type": "markdown",
   "metadata": {},
   "source": [
    "### B. Create an input prompt"
   ]
  },
  {
   "cell_type": "markdown",
   "metadata": {},
   "source": [
    "You can think of Jurassic-1 Grande as a smart auto-completion algorithm: it is very good at latching on to hints and patterns expressed in plain English, and generating text that follows the same patterns.\n",
    "Here are two words you should know:\n",
    "- **Prompt** - the input you provide to the model.\n",
    "- **Completion** - the output text the model generated.\n",
    "\n",
    "The best way to guide the model is to provide several examples, consisting of input-output pairs, in the prompt.\n",
    "In order to help the model distinguish between each example, we use a stop sequence. The stop sequence itself should be immediately recognizeable when you look at the text as a whole.\n",
    "\n",
    "In this example, we will create a CV profile, a short paragraph in a resume that highlights the candidate’s background, skills and ambitions."
   ]
  },
  {
   "cell_type": "markdown",
   "metadata": {},
   "source": [
    "The prompt comprised from the following:\n",
    "1. Few-shot examples: pairs of input-output pairs. In this case, the input is a role and some skills to highlight in the CV profile. They are separated by the following stop sequence: ##.\n",
    "\n",
    "2. A role and skills to create CV profile from. It should be written in the same format as all the examples.\n",
    "\n",
    "The following function gets a new reviews and creates a few-shot prompt to send to Jurassic-1 Grande:"
   ]
  },
  {
   "cell_type": "code",
   "execution_count": 9,
   "metadata": {},
   "outputs": [],
   "source": [
    "def create_cv_profile_prompt(role, skills):\n",
    "    \"\"\"\n",
    "    Given a role and skill highlights, create a prompt for Jurassic-1 Grande\n",
    "    The prompt consists of input-output pairs of examples (\"few-shot\"), where the last example only contain the input.\n",
    "    \"\"\"\n",
    "    skills_str = \"\"\n",
    "    for i, s in enumerate(skills, start=1):\n",
    "        skills_str += f\"{i:d}. {s}\\n\"\n",
    "    skills_str += \"\\n\"\n",
    "\n",
    "    prompt = f\"Write a winning CV profile for a Business Manager incorporating the following features:\\n1. Logical mind\\n2. Problem solver\\n3. 2 years of experience in management\\n4. Eager to learn\\n\\nProfile:\\nI have a clear, logical mind with a practical approach to problem-solving and a drive to see things through to completion. I have more than 2 years of experience in managing and leading teams across multiple sectors. I am eager to learn, I enjoy overcoming challenges, and I have a genuine interest in Business Management and making organisations successful.\\n\\n##\\n\\nWrite a winning CV profile for a Chemical Engineer incorporating the following features:\\n1. Hard worker and devoted\\n2. Background in: design, plant operations, offshore operations, and process and safety improvements\\n3. Experience in: designing, testing and analysing processes\\n\\nProfile:\\nI am a dedicated, hardworking and proactive Chemical Engineer with a strong background in design, plant operations, offshore operations, and process and safety improvements. I have solid work experience in designing, testing and analysing processes to increase the overall efficiency of operations. I am currently looking for an opportunity to utilise my technical skills in a challenging working environment and become a valuable asset to the organisation that I work for.\\n\\n##\\n\\nWrite a winning CV profile for an IT Professional incorporating the following features:\\n1. 5 years experience\\n2. Record designing websites, networking and managing databases\\n3. Excellent interpersonal skills\\n4. Looking for a challenge\\n\\nProfile:\\nI am a highly competent IT professional with 5 years of relevant industry experience and  a proven track record in designing websites, networking and managing databases. I have strong technical skills as well as excellent interpersonal skills, enabling me to interact with a wide range of clients. I am eager to be challenged in order to grow and further improve my IT skills. My greatest passion is in life is using my technical know-how to benefit other people and organisations.\\n\\n##\\n\\nWrite a winning CV profile for a {role} incorporating the following features:\\n{skills_str}Profile:\\n\"\n",
    "    return prompt"
   ]
  },
  {
   "cell_type": "code",
   "execution_count": 10,
   "metadata": {},
   "outputs": [
    {
     "name": "stdout",
     "output_type": "stream",
     "text": [
      "Write a winning CV profile for a Business Manager incorporating the following features:\n",
      "1. Logical mind\n",
      "2. Problem solver\n",
      "3. 2 years of experience in management\n",
      "4. Eager to learn\n",
      "\n",
      "Profile:\n",
      "I have a clear, logical mind with a practical approach to problem-solving and a drive to see things through to completion. I have more than 2 years of experience in managing and leading teams across multiple sectors. I am eager to learn, I enjoy overcoming challenges, and I have a genuine interest in Business Management and making organisations successful.\n",
      "\n",
      "##\n",
      "\n",
      "Write a winning CV profile for a Chemical Engineer incorporating the following features:\n",
      "1. Hard worker and devoted\n",
      "2. Background in: design, plant operations, offshore operations, and process and safety improvements\n",
      "3. Experience in: designing, testing and analysing processes\n",
      "\n",
      "Profile:\n",
      "I am a dedicated, hardworking and proactive Chemical Engineer with a strong background in design, plant operations, offshore operations, and process and safety improvements. I have solid work experience in designing, testing and analysing processes to increase the overall efficiency of operations. I am currently looking for an opportunity to utilise my technical skills in a challenging working environment and become a valuable asset to the organisation that I work for.\n",
      "\n",
      "##\n",
      "\n",
      "Write a winning CV profile for an IT Professional incorporating the following features:\n",
      "1. 5 years experience\n",
      "2. Record designing websites, networking and managing databases\n",
      "3. Excellent interpersonal skills\n",
      "4. Looking for a challenge\n",
      "\n",
      "Profile:\n",
      "I am a highly competent IT professional with 5 years of relevant industry experience and  a proven track record in designing websites, networking and managing databases. I have strong technical skills as well as excellent interpersonal skills, enabling me to interact with a wide range of clients. I am eager to be challenged in order to grow and further improve my IT skills. My greatest passion is in life is using my technical know-how to benefit other people and organisations.\n",
      "\n",
      "##\n",
      "\n",
      "Write a winning CV profile for a Sales Executive incorporating the following features:\n",
      "1. Energetic and ambitious\n",
      "2. 6 years of selling experience\n",
      "3. Independent\n",
      "4. MBA from Stanford\n",
      "\n",
      "Profile:\n",
      "\n"
     ]
    }
   ],
   "source": [
    "# Create a prompt for Sales Executive and look at the prompt\n",
    "role = \"Sales Executive\"\n",
    "features = [\"Energetic and ambitious\", \"6 years of selling experience\", \"Independent\", \"MBA from Stanford\"]\n",
    "\n",
    "prompt = create_cv_profile_prompt(role, features)\n",
    "print(prompt)"
   ]
  },
  {
   "cell_type": "markdown",
   "metadata": {},
   "source": [
    "### C. Perform real-time inference"
   ]
  },
  {
   "cell_type": "markdown",
   "metadata": {},
   "source": [
    "Time to put Jurassic-1 Grande to work!\n",
    "\n",
    "Let it generate a CV profile for the given input. Since the generation is not deterministic, you can ask for several completions per request and pick the one you prefer."
   ]
  },
  {
   "cell_type": "code",
   "execution_count": 16,
   "metadata": {},
   "outputs": [
    {
     "name": "stdout",
     "output_type": "stream",
     "text": [
      "I have an energetic and ambitious personality with a proven track record of selling products successfully. I have 6 years of selling experience, and 2 years of international experience. I am independent, resourceful, and tenacious. I have an MBA from Stanford. I am looking for a challenging position where I can utilise my skills and experience to meet my full potential.\n",
      "=============\n",
      "I am an energetic and ambitious Sales Executive with 6 years of selling experience. I have outstanding interpersonal skills, a solid business acumen, and a proven track record of building and maintaining long-term relationships with customers. I have an MBA and I would like to work for a company that will allow me to use my skills and experience to further grow the business.\n",
      "=============\n",
      "I’m an energetic and ambitious Sales Executive with 6 years of selling experience. I have excellent communication skills and thrive on meeting and interacting with people on a daily basis. I am an independent person who can deal with pressure and manage time effectively. I have an MBA from Stanford in my back pocket and have been a Sales Representative and Account Manager for the past 6 years.\n",
      "=============\n"
     ]
    }
   ],
   "source": [
    "numResults = 3\n",
    "\n",
    "response = ai21.Completion.execute(sm_endpoint=\"j1-grande\",\n",
    "                                   prompt=prompt,\n",
    "                                   maxTokens=100,\n",
    "                                   temperature=0.7,\n",
    "                                   stopSequences=['##'],\n",
    "                                   numResults=numResults)\n",
    "\n",
    "for i in range(numResults):\n",
    "    print(response['completions'][i]['data']['text'].strip())\n",
    "    print(\"=============\")"
   ]
  },
  {
   "cell_type": "markdown",
   "metadata": {},
   "source": [
    "### D. Create your own CV Profile!"
   ]
  },
  {
   "cell_type": "code",
   "execution_count": 17,
   "metadata": {},
   "outputs": [
    {
     "name": "stdin",
     "output_type": "stream",
     "text": [
      "Role: Developer Advocate\n",
      "Skills, separated by commas with no spaces: (for example, 'Hard worker,Resourceful') Sassy,Loud,Character\n"
     ]
    }
   ],
   "source": [
    "role = input(\"Role:\")\n",
    "skills = input(\"Skills, separated by commas with no spaces: (for example, \\'Hard worker,Resourceful\\')\")"
   ]
  },
  {
   "cell_type": "code",
   "execution_count": 18,
   "metadata": {},
   "outputs": [
    {
     "name": "stdout",
     "output_type": "stream",
     "text": [
      "Write a winning CV profile for a Business Manager incorporating the following features:\n",
      "1. Logical mind\n",
      "2. Problem solver\n",
      "3. 2 years of experience in management\n",
      "4. Eager to learn\n",
      "\n",
      "Profile:\n",
      "I have a clear, logical mind with a practical approach to problem-solving and a drive to see things through to completion. I have more than 2 years of experience in managing and leading teams across multiple sectors. I am eager to learn, I enjoy overcoming challenges, and I have a genuine interest in Business Management and making organisations successful.\n",
      "\n",
      "##\n",
      "\n",
      "Write a winning CV profile for a Chemical Engineer incorporating the following features:\n",
      "1. Hard worker and devoted\n",
      "2. Background in: design, plant operations, offshore operations, and process and safety improvements\n",
      "3. Experience in: designing, testing and analysing processes\n",
      "\n",
      "Profile:\n",
      "I am a dedicated, hardworking and proactive Chemical Engineer with a strong background in design, plant operations, offshore operations, and process and safety improvements. I have solid work experience in designing, testing and analysing processes to increase the overall efficiency of operations. I am currently looking for an opportunity to utilise my technical skills in a challenging working environment and become a valuable asset to the organisation that I work for.\n",
      "\n",
      "##\n",
      "\n",
      "Write a winning CV profile for an IT Professional incorporating the following features:\n",
      "1. 5 years experience\n",
      "2. Record designing websites, networking and managing databases\n",
      "3. Excellent interpersonal skills\n",
      "4. Looking for a challenge\n",
      "\n",
      "Profile:\n",
      "I am a highly competent IT professional with 5 years of relevant industry experience and  a proven track record in designing websites, networking and managing databases. I have strong technical skills as well as excellent interpersonal skills, enabling me to interact with a wide range of clients. I am eager to be challenged in order to grow and further improve my IT skills. My greatest passion is in life is using my technical know-how to benefit other people and organisations.\n",
      "\n",
      "##\n",
      "\n",
      "Write a winning CV profile for a Developer Advocate incorporating the following features:\n",
      "1. Sassy\n",
      "2. Loud\n",
      "3. Character\n",
      "\n",
      "Profile:\n",
      "\n"
     ]
    }
   ],
   "source": [
    "# Create the prompt and look at it\n",
    "your_prompt = create_cv_profile_prompt(role, skills.split(\",\"))\n",
    "print(your_prompt)"
   ]
  },
  {
   "cell_type": "code",
   "execution_count": 19,
   "metadata": {},
   "outputs": [
    {
     "name": "stdout",
     "output_type": "stream",
     "text": [
      "I am sassy, loud and have character. I have been working as a developer advocate for the past 3 years for a company called Bosh. Prior to that I spent 2 years as a developer evangelist, and 3 years as a software engineer.\n",
      "=============\n",
      "I am a dynamic, sassy, loud and character developer advocate with 5 years of relevant industry experience. I currently work as a developer advocate in a software startup. I have helped the company grow from zero to 500k users in 1.5 years. I am an enthusiastic programmer with 5 years of industry experience.\n",
      "=============\n",
      "I possess a sassy, loud, and outgoing character, and am not afraid to speak my mind. I possess great leadership skills and am able to motivate a team to achieve a common goal. I have 2 years’ experience in developing software as well as 2 years’ of being a team leader. I am looking for a position that will allow me to fully utilise my skills and help me achieve my career aspirations.\n",
      "=============\n"
     ]
    }
   ],
   "source": [
    "numResults = 3\n",
    "\n",
    "response = ai21.Completion.execute(sm_endpoint=\"j1-grande\",\n",
    "                                   prompt=your_prompt,\n",
    "                                   maxTokens=100,\n",
    "                                   temperature=0.7,\n",
    "                                   stopSequences=['##'],\n",
    "                                   numResults=numResults)\n",
    "\n",
    "for i in range(numResults):\n",
    "    print(response['completions'][i]['data']['text'].strip())\n",
    "    print(\"=============\")"
   ]
  },
  {
   "cell_type": "markdown",
   "metadata": {},
   "source": [
    "### Interested in learning more?\n",
    "Take a look at our [blog post](https://www.ai21.com/blog/building-cv-profile-generator-using-ai21-studio) to understand the process of building a good prompt."
   ]
  },
  {
   "cell_type": "markdown",
   "metadata": {},
   "source": [
    "### E. Delete the endpoint"
   ]
  },
  {
   "cell_type": "markdown",
   "metadata": {},
   "source": [
    "Now that you have successfully performed a real-time inference, you do not need the endpoint any more. You can terminate the endpoint to avoid being charged."
   ]
  },
  {
   "cell_type": "code",
   "execution_count": 7,
   "metadata": {},
   "outputs": [
    {
     "ename": "NameError",
     "evalue": "name 'model' is not defined",
     "output_type": "error",
     "traceback": [
      "\u001b[0;31m---------------------------------------------------------------------------\u001b[0m",
      "\u001b[0;31mNameError\u001b[0m                                 Traceback (most recent call last)",
      "\u001b[0;32m<ipython-input-7-744ad9f826c6>\u001b[0m in \u001b[0;36m<module>\u001b[0;34m\u001b[0m\n\u001b[0;32m----> 1\u001b[0;31m \u001b[0mmodel\u001b[0m\u001b[0;34m.\u001b[0m\u001b[0msagemaker_session\u001b[0m\u001b[0;34m.\u001b[0m\u001b[0mdelete_endpoint\u001b[0m\u001b[0;34m(\u001b[0m\u001b[0mmodel_name\u001b[0m\u001b[0;34m)\u001b[0m\u001b[0;34m\u001b[0m\u001b[0;34m\u001b[0m\u001b[0m\n\u001b[0m\u001b[1;32m      2\u001b[0m \u001b[0mmodel\u001b[0m\u001b[0;34m.\u001b[0m\u001b[0msagemaker_session\u001b[0m\u001b[0;34m.\u001b[0m\u001b[0mdelete_endpoint_config\u001b[0m\u001b[0;34m(\u001b[0m\u001b[0mmodel_name\u001b[0m\u001b[0;34m)\u001b[0m\u001b[0;34m\u001b[0m\u001b[0;34m\u001b[0m\u001b[0m\n",
      "\u001b[0;31mNameError\u001b[0m: name 'model' is not defined"
     ]
    }
   ],
   "source": [
    "model.sagemaker_session.delete_endpoint(model_name)\n",
    "model.sagemaker_session.delete_endpoint_config(model_name)"
   ]
  },
  {
   "cell_type": "markdown",
   "metadata": {},
   "source": [
    "## 4. Clean-up"
   ]
  },
  {
   "cell_type": "markdown",
   "metadata": {},
   "source": [
    "### A. Delete the model"
   ]
  },
  {
   "cell_type": "code",
   "execution_count": 8,
   "metadata": {},
   "outputs": [
    {
     "ename": "NameError",
     "evalue": "name 'model' is not defined",
     "output_type": "error",
     "traceback": [
      "\u001b[0;31m---------------------------------------------------------------------------\u001b[0m",
      "\u001b[0;31mNameError\u001b[0m                                 Traceback (most recent call last)",
      "\u001b[0;32m<ipython-input-8-97893927d3dd>\u001b[0m in \u001b[0;36m<module>\u001b[0;34m\u001b[0m\n\u001b[0;32m----> 1\u001b[0;31m \u001b[0mmodel\u001b[0m\u001b[0;34m.\u001b[0m\u001b[0mdelete_model\u001b[0m\u001b[0;34m(\u001b[0m\u001b[0;34m)\u001b[0m\u001b[0;34m\u001b[0m\u001b[0;34m\u001b[0m\u001b[0m\n\u001b[0m",
      "\u001b[0;31mNameError\u001b[0m: name 'model' is not defined"
     ]
    }
   ],
   "source": [
    "model.delete_model()"
   ]
  }
 ],
 "metadata": {
  "instance_type": "ml.t3.medium",
  "kernelspec": {
   "display_name": "conda_tensorflow2_p38",
   "language": "python",
   "name": "conda_tensorflow2_p38"
  },
  "language_info": {
   "codemirror_mode": {
    "name": "ipython",
    "version": 3
   },
   "file_extension": ".py",
   "mimetype": "text/x-python",
   "name": "python",
   "nbconvert_exporter": "python",
   "pygments_lexer": "ipython3",
   "version": "3.8.12"
  }
 },
 "nbformat": 4,
 "nbformat_minor": 4
}
