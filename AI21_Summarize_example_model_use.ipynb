{
 "cells": [
  {
   "cell_type": "markdown",
   "metadata": {},
   "source": [
    "# Using AI21 Summarize on SageMaker through Model Packages\n",
    "\n",
    "This sample notebook shows you how to deploy **AI21 Summarize** using Amazon SageMaker.\n",
    "\n",
    "## Pre-requisites:\n",
    "1. Before running this notebook, please make sure you got this notebook from the model catalog on SageMaker AWS Management Console.\n",
    "1. **Note**: This notebook contains elements which render correctly in Jupyter interface. Open this notebook from an Amazon SageMaker Notebook Instance or Amazon SageMaker Studio.\n",
    "1. Ensure that IAM role used has **AmazonSageMakerFullAccess**.\n",
    "1. This notebook is intended to work with **boto3 v1.25.4** or higher.\n",
    "\n",
    "## Contents:\n",
    "1. [Select model package](#1.-Select-model-package)\n",
    "2. [Create an endpoint and perform real-time inference](#2.-Create-an-endpoint-and-perform-real-time-inference)\n",
    "   1. [Create an endpoint](#A.-Create-an-endpoint)\n",
    "   2. [Summarize a single paragraph](#B.-Summarize-a-single-paragraph)\n",
    "   3. [Summarize longer texts](#C.-Summarize-longer-texts)\n",
    "   4. [Delete the endpoint](#D.-Delete-the-endpoint)\n",
    "3. [Clean-up](#4.-Clean-up)\n",
    "    1. [Delete the model](#A.-Delete-the-model)\n",
    "    \n",
    "\n",
    "## Usage instructions\n",
    "You can run this notebook one cell at a time (By using Shift+Enter for running a cell)."
   ]
  },
  {
   "cell_type": "markdown",
   "metadata": {},
   "source": [
    "## 1. Select model package\n",
    "Confirm that you received this notebook from the model catalog in SageMaker AWS Management Console."
   ]
  },
  {
   "cell_type": "code",
   "execution_count": 2,
   "metadata": {},
   "outputs": [],
   "source": [
    "model_package_map = {\n",
    "    \"us-east-1\": \"arn:aws:sagemaker:us-east-1:865070037744:model-package/summarize-1-1-000-952cc95c07d034cfbae0477f25f26df0\",\n",
    "    \"us-east-2\": \"arn:aws:sagemaker:us-east-2:057799348421:model-package/summarize-1-1-000-952cc95c07d034cfbae0477f25f26df0\",\n",
    "    \"us-west-1\": \"arn:aws:sagemaker:us-west-1:382657785993:model-package/summarize-1-1-000-952cc95c07d034cfbae0477f25f26df0\",\n",
    "    \"us-west-2\": \"arn:aws:sagemaker:us-west-2:594846645681:model-package/summarize-1-1-000-952cc95c07d034cfbae0477f25f26df0\",\n",
    "    \"ca-central-1\": \"arn:aws:sagemaker:ca-central-1:470592106596:model-package/summarize-1-1-000-952cc95c07d034cfbae0477f25f26df0\",\n",
    "    \"eu-central-1\": \"arn:aws:sagemaker:eu-central-1:446921602837:model-package/summarize-1-1-000-952cc95c07d034cfbae0477f25f26df0\",\n",
    "    \"eu-west-1\": \"arn:aws:sagemaker:eu-west-1:985815980388:model-package/summarize-1-1-000-952cc95c07d034cfbae0477f25f26df0\",\n",
    "    \"eu-west-2\": \"arn:aws:sagemaker:eu-west-2:856760150666:model-package/summarize-1-1-000-952cc95c07d034cfbae0477f25f26df0\",\n",
    "    \"eu-west-3\": \"arn:aws:sagemaker:eu-west-3:843114510376:model-package/summarize-1-1-000-952cc95c07d034cfbae0477f25f26df0\",\n",
    "    \"eu-north-1\": \"arn:aws:sagemaker:eu-north-1:136758871317:model-package/summarize-1-1-000-952cc95c07d034cfbae0477f25f26df0\",\n",
    "    \"ap-southeast-1\": \"arn:aws:sagemaker:ap-southeast-1:192199979996:model-package/summarize-1-1-000-952cc95c07d034cfbae0477f25f26df0\",\n",
    "    \"ap-southeast-2\": \"arn:aws:sagemaker:ap-southeast-2:666831318237:model-package/summarize-1-1-000-952cc95c07d034cfbae0477f25f26df0\",\n",
    "    \"ap-northeast-2\": \"arn:aws:sagemaker:ap-northeast-2:745090734665:model-package/summarize-1-1-000-952cc95c07d034cfbae0477f25f26df0\",\n",
    "    \"ap-northeast-1\": \"arn:aws:sagemaker:ap-northeast-1:977537786026:model-package/summarize-1-1-000-952cc95c07d034cfbae0477f25f26df0\",\n",
    "    \"ap-south-1\": \"arn:aws:sagemaker:ap-south-1:077584701553:model-package/summarize-1-1-000-952cc95c07d034cfbae0477f25f26df0\",\n",
    "    \"sa-east-1\": \"arn:aws:sagemaker:sa-east-1:270155090741:model-package/summarize-1-1-000-952cc95c07d034cfbae0477f25f26df0\"\n",
    "}"
   ]
  },
  {
   "cell_type": "code",
   "execution_count": 3,
   "metadata": {},
   "outputs": [],
   "source": [
    "import json\n",
    "from sagemaker import ModelPackage\n",
    "from sagemaker import get_execution_role\n",
    "from sagemaker import ModelPackage\n",
    "import sagemaker as sage\n",
    "import boto3"
   ]
  },
  {
   "cell_type": "code",
   "execution_count": 4,
   "metadata": {},
   "outputs": [
    {
     "name": "stdout",
     "output_type": "stream",
     "text": [
      "Looking in indexes: https://pypi.org/simple, https://pip.repos.neuron.amazonaws.com\n",
      "Requirement already satisfied: wikipedia in /home/ec2-user/anaconda3/envs/pytorch_p39/lib/python3.9/site-packages (1.4.0)\n",
      "Requirement already satisfied: beautifulsoup4 in /home/ec2-user/anaconda3/envs/pytorch_p39/lib/python3.9/site-packages (from wikipedia) (4.11.1)\n",
      "Requirement already satisfied: requests<3.0.0,>=2.0.0 in /home/ec2-user/anaconda3/envs/pytorch_p39/lib/python3.9/site-packages (from wikipedia) (2.28.1)\n",
      "Requirement already satisfied: urllib3<1.27,>=1.21.1 in /home/ec2-user/anaconda3/envs/pytorch_p39/lib/python3.9/site-packages (from requests<3.0.0,>=2.0.0->wikipedia) (1.26.8)\n",
      "Requirement already satisfied: certifi>=2017.4.17 in /home/ec2-user/anaconda3/envs/pytorch_p39/lib/python3.9/site-packages (from requests<3.0.0,>=2.0.0->wikipedia) (2022.12.7)\n",
      "Requirement already satisfied: charset-normalizer<3,>=2 in /home/ec2-user/anaconda3/envs/pytorch_p39/lib/python3.9/site-packages (from requests<3.0.0,>=2.0.0->wikipedia) (2.1.1)\n",
      "Requirement already satisfied: idna<4,>=2.5 in /home/ec2-user/anaconda3/envs/pytorch_p39/lib/python3.9/site-packages (from requests<3.0.0,>=2.0.0->wikipedia) (3.4)\n",
      "Requirement already satisfied: soupsieve>1.2 in /home/ec2-user/anaconda3/envs/pytorch_p39/lib/python3.9/site-packages (from beautifulsoup4->wikipedia) (2.3.2.post1)\n"
     ]
    }
   ],
   "source": [
    "# Import wikipedia for longer texts example\n",
    "! pip install wikipedia\n",
    "import wikipedia"
   ]
  },
  {
   "cell_type": "markdown",
   "metadata": {},
   "source": [
    "### Check the version of boto3 - must be v1.25.4 or higher\n",
    "If you see a lower version number, pick another kernel to run the notebook, with Python 3.8 or above"
   ]
  },
  {
   "cell_type": "code",
   "execution_count": 5,
   "metadata": {},
   "outputs": [
    {
     "data": {
      "text/plain": [
       "'1.26.74'"
      ]
     },
     "execution_count": 5,
     "metadata": {},
     "output_type": "execute_result"
    }
   ],
   "source": [
    "boto3.__version__"
   ]
  },
  {
   "cell_type": "markdown",
   "metadata": {},
   "source": [
    "### Install ai21 python SDK"
   ]
  },
  {
   "cell_type": "code",
   "execution_count": 6,
   "metadata": {},
   "outputs": [
    {
     "name": "stdout",
     "output_type": "stream",
     "text": [
      "Looking in indexes: https://pypi.org/simple, https://pip.repos.neuron.amazonaws.com\n",
      "Requirement already satisfied: ai21[SM] in /home/ec2-user/anaconda3/envs/pytorch_p39/lib/python3.9/site-packages (1.0.3)\n",
      "Requirement already satisfied: requests in /home/ec2-user/anaconda3/envs/pytorch_p39/lib/python3.9/site-packages (from ai21[SM]) (2.28.1)\n",
      "Requirement already satisfied: boto3 in /home/ec2-user/anaconda3/envs/pytorch_p39/lib/python3.9/site-packages (from ai21[SM]) (1.26.74)\n",
      "Requirement already satisfied: s3transfer<0.7.0,>=0.6.0 in /home/ec2-user/anaconda3/envs/pytorch_p39/lib/python3.9/site-packages (from boto3->ai21[SM]) (0.6.0)\n",
      "Requirement already satisfied: botocore<1.30.0,>=1.29.74 in /home/ec2-user/anaconda3/envs/pytorch_p39/lib/python3.9/site-packages (from boto3->ai21[SM]) (1.29.74)\n",
      "Requirement already satisfied: jmespath<2.0.0,>=0.7.1 in /home/ec2-user/anaconda3/envs/pytorch_p39/lib/python3.9/site-packages (from boto3->ai21[SM]) (1.0.1)\n",
      "Requirement already satisfied: certifi>=2017.4.17 in /home/ec2-user/anaconda3/envs/pytorch_p39/lib/python3.9/site-packages (from requests->ai21[SM]) (2022.12.7)\n",
      "Requirement already satisfied: idna<4,>=2.5 in /home/ec2-user/anaconda3/envs/pytorch_p39/lib/python3.9/site-packages (from requests->ai21[SM]) (3.4)\n",
      "Requirement already satisfied: charset-normalizer<3,>=2 in /home/ec2-user/anaconda3/envs/pytorch_p39/lib/python3.9/site-packages (from requests->ai21[SM]) (2.1.1)\n",
      "Requirement already satisfied: urllib3<1.27,>=1.21.1 in /home/ec2-user/anaconda3/envs/pytorch_p39/lib/python3.9/site-packages (from requests->ai21[SM]) (1.26.8)\n",
      "Requirement already satisfied: python-dateutil<3.0.0,>=2.1 in /home/ec2-user/anaconda3/envs/pytorch_p39/lib/python3.9/site-packages (from botocore<1.30.0,>=1.29.74->boto3->ai21[SM]) (2.8.2)\n",
      "Requirement already satisfied: six>=1.5 in /home/ec2-user/anaconda3/envs/pytorch_p39/lib/python3.9/site-packages (from python-dateutil<3.0.0,>=2.1->botocore<1.30.0,>=1.29.74->boto3->ai21[SM]) (1.16.0)\n"
     ]
    }
   ],
   "source": [
    "! pip install -U \"ai21[SM]\"\n",
    "import ai21"
   ]
  },
  {
   "cell_type": "code",
   "execution_count": 7,
   "metadata": {},
   "outputs": [],
   "source": [
    "region = boto3.Session().region_name\n",
    "if region not in model_package_map.keys():\n",
    "    raise (\"UNSUPPORTED REGION\")\n",
    "\n",
    "model_package_arn = model_package_map[region]"
   ]
  },
  {
   "cell_type": "code",
   "execution_count": 8,
   "metadata": {},
   "outputs": [],
   "source": [
    "role = get_execution_role()\n",
    "sagemaker_session = sage.Session()\n",
    "\n",
    "runtime_sm_client = boto3.client(\"runtime.sagemaker\")"
   ]
  },
  {
   "cell_type": "markdown",
   "metadata": {},
   "source": [
    "## 2. Create an endpoint and perform real-time inference"
   ]
  },
  {
   "cell_type": "markdown",
   "metadata": {},
   "source": [
    "If you want to understand how real-time inference with Amazon SageMaker works, see [Documentation](https://docs.aws.amazon.com/sagemaker/latest/dg/deploy-model.html)."
   ]
  },
  {
   "cell_type": "code",
   "execution_count": 9,
   "metadata": {},
   "outputs": [],
   "source": [
    "model_name = \"summarize\"\n",
    "\n",
    "content_type = \"application/json\"\n",
    "\n",
    "real_time_inference_instance_type = (\n",
    "    \"ml.g4dn.12xlarge\"\n",
    ")"
   ]
  },
  {
   "cell_type": "markdown",
   "metadata": {},
   "source": [
    "### A. Create an endpoint"
   ]
  },
  {
   "cell_type": "code",
   "execution_count": 12,
   "metadata": {},
   "outputs": [
    {
     "name": "stdout",
     "output_type": "stream",
     "text": [
      "---------!"
     ]
    }
   ],
   "source": [
    "# create a deployable model from the model package.\n",
    "model = ModelPackage(\n",
    "    role=role, model_package_arn=model_package_arn, sagemaker_session=sagemaker_session\n",
    ")\n",
    "\n",
    "# Deploy the model\n",
    "predictor = model.deploy(1, real_time_inference_instance_type, endpoint_name=model_name, \n",
    "                         model_data_download_timeout=3600,\n",
    "                         container_startup_health_check_timeout=600,\n",
    "                        )"
   ]
  },
  {
   "cell_type": "markdown",
   "metadata": {},
   "source": [
    "Once endpoint has been created, you would be able to perform real-time inference."
   ]
  },
  {
   "cell_type": "markdown",
   "metadata": {},
   "source": [
    "### B. Summarize a single paragraph"
   ]
  },
  {
   "cell_type": "markdown",
   "metadata": {},
   "source": [
    "**AI21 Summarize model** offers access to our world-class summarization engine. It has been specifically developed for understanding long texts and providing a faithful summary of the original document.\n",
    "\n",
    "This model takes a piece of text and generates summaries that remain faithful to the original document (i.e. no external information is added during the process)."
   ]
  },
  {
   "cell_type": "markdown",
   "metadata": {},
   "source": [
    "The input text should contain **at least 40 words** and **no more than 50,000 characters**."
   ]
  },
  {
   "cell_type": "markdown",
   "metadata": {},
   "source": [
    "The following is an example of a summary of a single paragraph taken from a news article."
   ]
  },
  {
   "cell_type": "code",
   "execution_count": 13,
   "metadata": {},
   "outputs": [
    {
     "name": "stdout",
     "output_type": "stream",
     "text": [
      "Original text:\n",
      "The error affected a number of international flights leaving the terminal on Wednesday, with some airlines urging passengers to travel only with hand luggage.\n",
      "Virgin Atlantic said all airlines flying out of the terminal had been affected.\n",
      "Passengers have been warned it may be days before they are reunited with luggage.\n",
      "An airport spokesperson apologised and said the fault had now been fixed.\n",
      "Virgin Atlantic said it would ensure all bags were sent out as soon as possible.\n",
      "It added customers should retain receipts for anything they had bought and make a claim to be reimbursed.\n",
      "Passengers, who were informed by e-mail of the problem, took to social media to vent their frustrations.\n",
      "One branded the situation \"ludicrous\" and said he was only told 12 hours before his flight.\n",
      "The airport said it could not confirm what the problem was, what had caused it or how many people had been affected.\n",
      "================\n",
      "Summary:\n",
      "The error affected a number of international flights leaving the terminal on Wednesday, with Virgin Atlantic urging passengers to travel only with hand luggage. Passengers were warned it may be days before they are reunited with luggage.\n"
     ]
    }
   ],
   "source": [
    "text = \"\"\"The error affected a number of international flights leaving the terminal on Wednesday, with some airlines urging passengers to travel only with hand luggage.\n",
    "Virgin Atlantic said all airlines flying out of the terminal had been affected.\n",
    "Passengers have been warned it may be days before they are reunited with luggage.\n",
    "An airport spokesperson apologised and said the fault had now been fixed.\n",
    "Virgin Atlantic said it would ensure all bags were sent out as soon as possible.\n",
    "It added customers should retain receipts for anything they had bought and make a claim to be reimbursed.\n",
    "Passengers, who were informed by e-mail of the problem, took to social media to vent their frustrations.\n",
    "One branded the situation \"ludicrous\" and said he was only told 12 hours before his flight.\n",
    "The airport said it could not confirm what the problem was, what had caused it or how many people had been affected.\"\"\"\n",
    "\n",
    "response = ai21.Summarize.execute(\n",
    "                          source=text,\n",
    "                          sourceType=\"TEXT\",\n",
    "                          sm_endpoint=\"summarize\"\n",
    ")\n",
    "\n",
    "print(\"Original text:\")\n",
    "print(text)\n",
    "print(\"================\")\n",
    "print(\"Summary:\")\n",
    "print(response.summary)"
   ]
  },
  {
   "cell_type": "markdown",
   "metadata": {},
   "source": [
    "### C. Summarize longer texts"
   ]
  },
  {
   "cell_type": "markdown",
   "metadata": {},
   "source": [
    "AI21 Summarize can handle inputs up to 50,000 characters, as stated above. This translates into roughly 10,000 words, or a whopping 40 pages.\n",
    "\n",
    "As a demonstration of the model's behavior, we'll load a page from Wikipedia. If you're an Office fan, this will look familiar :)"
   ]
  },
  {
   "cell_type": "code",
   "execution_count": 14,
   "metadata": {},
   "outputs": [],
   "source": [
    "wiki_page = wikipedia.page(\"The_Office_(American_TV_series)\").content"
   ]
  },
  {
   "cell_type": "markdown",
   "metadata": {},
   "source": [
    "Since this is a full page, we will focus only the opening section."
   ]
  },
  {
   "cell_type": "code",
   "execution_count": 15,
   "metadata": {},
   "outputs": [
    {
     "name": "stdout",
     "output_type": "stream",
     "text": [
      "The Office is an American mockumentary sitcom television series that depicts the everyday work lives of office employees at the Scranton, Pennsylvania, branch of the fictional Dunder Mifflin Paper Company. It aired on NBC from March 24, 2005, to May 16, 2013, spanning a total of nine seasons. Based on the 2001–2003 BBC series of the same name created by Ricky Gervais and Stephen Merchant, it was adapted for American television by Greg Daniels, a veteran writer for Saturday Night Live, King of the Hill, and The Simpsons. It was co-produced by Daniels' Deedle-Dee Productions and Reveille Productions (later Shine America), in association with Universal Television. The original executive producers were Daniels, Gervais, Merchant, Howard Klein, and Ben Silverman, with numerous others being promoted in later seasons.\n",
      "Like its British counterpart, the series was filmed in a single-camera setup without a studio audience or a laugh track to simulate the look of an actual documentary. The series debuted on NBC as a mid-season replacement and aired 201 episodes for its run. The Office originally featured Steve Carell, Rainn Wilson, John Krasinski, Jenna Fischer, and B. J. Novak as the main cast; however, the series experienced numerous changes to its ensemble cast during its run. Notable stars outside the original main cast include Ed Helms, Amy Ryan, Mindy Kaling, Craig Robinson, James Spader, Ellie Kemper, and Catherine Tate.\n",
      "The Office was met with mixed reviews during its short first season, but the following seasons, particularly Carell's performance, received significant acclaim from television critics as the show's characters, content, structure, and tone diverged considerably from the British version. These seasons were included on several critics' year-end top TV series lists, winning several awards such as a Peabody Award in 2006, two Screen Actors Guild Awards, a Golden Globe Award for Carell's performance, and four Primetime Emmy Awards, including one for Outstanding Comedy Series, in 2006. The eighth season was criticized for a decline in quality. Many saw Carell's departure in season seven as a contributing factor; however, the ninth and final season ended the series with a generally positive response. The series finale, which originally aired on May 16, 2013, was viewed by an estimated 5.7 million viewers and garnered critical acclaim. In 2016, Rolling Stone named The Office one of the 100 greatest television shows of all time.\n"
     ]
    }
   ],
   "source": [
    "office_text = wiki_page.split(\"\\n\\n\")[0]\n",
    "print(office_text)"
   ]
  },
  {
   "cell_type": "markdown",
   "metadata": {},
   "source": [
    "The summaries are formatted as bullet lists, following the original text flow."
   ]
  },
  {
   "cell_type": "code",
   "execution_count": 16,
   "metadata": {},
   "outputs": [
    {
     "name": "stdout",
     "output_type": "stream",
     "text": [
      "The Office is an American mockumentary sitcom television series based on the 2001 - 2003 BBC series of the same name created by Ricky Gervais and Stephen Merchant. It aired on NBC from March 24, 2005, to May 16, 2013, spanning a total of nine seasons.\n",
      "The Office debuted on NBC as a mid-season replacement and aired 201 episodes. It featured Steve Carell, Rainn Wilson, John Krasinski, Jenna Fischer, and B. J. Novak.\n",
      "The Office was met with mixed reviews during its short first season, but received significant acclaim from television critics in the following seasons.\n",
      "The eighth season was criticized for a decline in quality, but the ninth and final season ended the series with a generally positive response.\n"
     ]
    }
   ],
   "source": [
    "response = ai21.Summarize.execute(\n",
    "                          source=office_text,\n",
    "                          sourceType=\"TEXT\",\n",
    "                          sm_endpoint=\"summarize\"\n",
    ")\n",
    "\n",
    "print(response.summary)"
   ]
  },
  {
   "cell_type": "markdown",
   "metadata": {},
   "source": [
    "Here is the full text and the bullet points summarized:"
   ]
  },
  {
   "cell_type": "code",
   "execution_count": 17,
   "metadata": {},
   "outputs": [
    {
     "name": "stdout",
     "output_type": "stream",
     "text": [
      "Original text:\n",
      "The Office is an American mockumentary sitcom television series that depicts the everyday work lives of office employees at the Scranton, Pennsylvania, branch of the fictional Dunder Mifflin Paper Company. It aired on NBC from March 24, 2005, to May 16, 2013, spanning a total of nine seasons. Based on the 2001–2003 BBC series of the same name created by Ricky Gervais and Stephen Merchant, it was adapted for American television by Greg Daniels, a veteran writer for Saturday Night Live, King of the Hill, and The Simpsons. It was co-produced by Daniels' Deedle-Dee Productions and Reveille Productions (later Shine America), in association with Universal Television. The original executive producers were Daniels, Gervais, Merchant, Howard Klein, and Ben Silverman, with numerous others being promoted in later seasons.\n",
      "Like its British counterpart, the series was filmed in a single-camera setup without a studio audience or a laugh track to simulate the look of an actual documentary. The series debuted on NBC as a mid-season replacement and aired 201 episodes for its run. The Office originally featured Steve Carell, Rainn Wilson, John Krasinski, Jenna Fischer, and B. J. Novak as the main cast; however, the series experienced numerous changes to its ensemble cast during its run. Notable stars outside the original main cast include Ed Helms, Amy Ryan, Mindy Kaling, Craig Robinson, James Spader, Ellie Kemper, and Catherine Tate.\n",
      "The Office was met with mixed reviews during its short first season, but the following seasons, particularly Carell's performance, received significant acclaim from television critics as the show's characters, content, structure, and tone diverged considerably from the British version. These seasons were included on several critics' year-end top TV series lists, winning several awards such as a Peabody Award in 2006, two Screen Actors Guild Awards, a Golden Globe Award for Carell's performance, and four Primetime Emmy Awards, including one for Outstanding Comedy Series, in 2006. The eighth season was criticized for a decline in quality. Many saw Carell's departure in season seven as a contributing factor; however, the ninth and final season ended the series with a generally positive response. The series finale, which originally aired on May 16, 2013, was viewed by an estimated 5.7 million viewers and garnered critical acclaim. In 2016, Rolling Stone named The Office one of the 100 greatest television shows of all time.\n",
      "====================\n",
      "Summary:\n",
      "- The Office is an American mockumentary sitcom television series based on the 2001 - 2003 BBC series of the same name created by Ricky Gervais and Stephen Merchant. It aired on NBC from March 24, 2005, to May 16, 2013, spanning a total of nine seasons.\n",
      "- The Office debuted on NBC as a mid-season replacement and aired 201 episodes. It featured Steve Carell, Rainn Wilson, John Krasinski, Jenna Fischer, and B. J. Novak.\n",
      "- The Office was met with mixed reviews during its short first season, but received significant acclaim from television critics in the following seasons.\n",
      "- The eighth season was criticized for a decline in quality, but the ninth and final season ended the series with a generally positive response.\n"
     ]
    }
   ],
   "source": [
    "print(\"Original text:\")\n",
    "print(office_text)\n",
    "print(\"====================\")\n",
    "print(\"Summary:\")\n",
    "summaries = response.summary.split(\"\\n\")\n",
    "for summary in summaries:\n",
    "    print(\"- \" + summary)"
   ]
  },
  {
   "cell_type": "markdown",
   "metadata": {},
   "source": [
    "### Interested in learning more?\n",
    "Take a look at our [guide](https://docs.ai21.com/docs/summarize-api) to understand all the capabilities of AI21 Summarize model"
   ]
  },
  {
   "cell_type": "markdown",
   "metadata": {},
   "source": [
    "### D. Delete the endpoint"
   ]
  },
  {
   "cell_type": "markdown",
   "metadata": {},
   "source": [
    "Now that you have successfully performed a real-time inference, you do not need the endpoint any more. You can terminate the endpoint to avoid being charged."
   ]
  },
  {
   "cell_type": "code",
   "execution_count": 18,
   "metadata": {},
   "outputs": [],
   "source": [
    "model.sagemaker_session.delete_endpoint(model_name)\n",
    "model.sagemaker_session.delete_endpoint_config(model_name)"
   ]
  },
  {
   "cell_type": "markdown",
   "metadata": {},
   "source": [
    "## 4. Clean-up"
   ]
  },
  {
   "cell_type": "markdown",
   "metadata": {},
   "source": [
    "### A. Delete the model"
   ]
  },
  {
   "cell_type": "code",
   "execution_count": 19,
   "metadata": {},
   "outputs": [],
   "source": [
    "model.delete_model()"
   ]
  }
 ],
 "metadata": {
  "instance_type": "ml.t3.medium",
  "kernelspec": {
   "display_name": "conda_pytorch_p39",
   "language": "python",
   "name": "conda_pytorch_p39"
  },
  "language_info": {
   "codemirror_mode": {
    "name": "ipython",
    "version": 3
   },
   "file_extension": ".py",
   "mimetype": "text/x-python",
   "name": "python",
   "nbconvert_exporter": "python",
   "pygments_lexer": "ipython3",
   "version": "3.9.15"
  }
 },
 "nbformat": 4,
 "nbformat_minor": 4
}
