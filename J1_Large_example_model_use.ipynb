{
 "cells": [
  {
   "cell_type": "markdown",
   "metadata": {},
   "source": [
    "# Using Jurassic-1 Large on SageMaker through Model Packages\n",
    "\n",
    "This sample notebook shows you how to deploy Jurassic-1 Large using Amazon SageMaker.\n",
    "\n",
    "> **Note**: This is a reference notebook and it cannot run unless you make changes suggested in the notebook.\n",
    "\n",
    "## Pre-requisites:\n",
    "1. Before running this notebook, please make sure you got this notebook from the model catalog on SageMaker AWS Management Console.\n",
    "1. **Note**: This notebook contains elements which render correctly in Jupyter interface. Open this notebook from an Amazon SageMaker Notebook Instance or Amazon SageMaker Studio.\n",
    "1. Ensure that IAM role used has **AmazonSageMakerFullAccess**.\n",
    "1. This noebook is intended to work with **boto3 v1.25.4** or higher.\n",
    "\n",
    "## Contents:\n",
    "1. [Select model package](#1.-Subscribe-to-the-model-package)\n",
    "2. [Create an endpoint and perform real-time inference](#2.-Create-an-endpoint-and-perform-real-time-inference)\n",
    "   1. [Create an endpoint](#A.-Create-an-endpoint)\n",
    "   2. [Create input payload](#B.-Create-an-input-prompt)\n",
    "   3. [Perform real-time inference](#C.-Perform-real-time-inference)\n",
    "   4. [Create the dashboard](#D.-Create-the-dashboard)\n",
    "   5. [Delete the endpoint](#E.-Delete-the-endpoint)\n",
    "3. [Clean-up](#4.-Clean-up)\n",
    "    1. [Delete the model](#A.-Delete-the-model)\n",
    "    \n",
    "\n",
    "## Usage instructions\n",
    "You can run this notebook one cell at a time (By using Shift+Enter for running a cell)."
   ]
  },
  {
   "cell_type": "markdown",
   "metadata": {},
   "source": [
    "## 1. Select to the model package\n",
    "Confirm that you recieved this notebook from model catalog on SageMaker AWS Management Console.\n"
   ]
  },
  {
   "cell_type": "code",
   "execution_count": 1,
   "metadata": {},
   "outputs": [],
   "source": [
    "# Mapping for Model Packages (initially only us-east-1 and eu-west-1 is supported)\n",
    "model_package_map = {\n",
    "    \"us-east-1\": \"arn:aws:sagemaker:us-east-1:416407187090:model-package/j1-large-dbf0249\",\n",
    "#     \"eu-west-1\": \"\",\n",
    "}"
   ]
  },
  {
   "cell_type": "code",
   "execution_count": 2,
   "metadata": {},
   "outputs": [],
   "source": [
    "# SageMaker imports\n",
    "import json\n",
    "from sagemaker import ModelPackage\n",
    "from sagemaker import get_execution_role\n",
    "from sagemaker import ModelPackage\n",
    "import sagemaker as sage\n",
    "import boto3\n",
    "\n",
    "# Use-case imports\n",
    "from tqdm import tqdm\n",
    "from utils_lib.utils import *"
   ]
  },
  {
   "cell_type": "code",
   "execution_count": 3,
   "metadata": {},
   "outputs": [
    {
     "name": "stdout",
     "output_type": "stream",
     "text": [
      "Looking in indexes: https://pypi.org/simple, https://pip.repos.neuron.amazonaws.com\n",
      "Requirement already satisfied: ai21-python-client[SM] in /home/ec2-user/anaconda3/envs/tensorflow2_p38/lib/python3.8/site-packages (0.0.1)\n",
      "Requirement already satisfied: requests in /home/ec2-user/anaconda3/envs/tensorflow2_p38/lib/python3.8/site-packages (from ai21-python-client[SM]) (2.26.0)\n",
      "Requirement already satisfied: boto3 in /home/ec2-user/anaconda3/envs/tensorflow2_p38/lib/python3.8/site-packages (from ai21-python-client[SM]) (1.26.8)\n",
      "Requirement already satisfied: jmespath<2.0.0,>=0.7.1 in /home/ec2-user/anaconda3/envs/tensorflow2_p38/lib/python3.8/site-packages (from boto3->ai21-python-client[SM]) (0.10.0)\n",
      "Requirement already satisfied: s3transfer<0.7.0,>=0.6.0 in /home/ec2-user/anaconda3/envs/tensorflow2_p38/lib/python3.8/site-packages (from boto3->ai21-python-client[SM]) (0.6.0)\n",
      "Requirement already satisfied: botocore<1.30.0,>=1.29.8 in /home/ec2-user/anaconda3/envs/tensorflow2_p38/lib/python3.8/site-packages (from boto3->ai21-python-client[SM]) (1.29.8)\n",
      "Requirement already satisfied: urllib3<1.27,>=1.21.1 in /home/ec2-user/anaconda3/envs/tensorflow2_p38/lib/python3.8/site-packages (from requests->ai21-python-client[SM]) (1.26.8)\n",
      "Requirement already satisfied: certifi>=2017.4.17 in /home/ec2-user/anaconda3/envs/tensorflow2_p38/lib/python3.8/site-packages (from requests->ai21-python-client[SM]) (2021.10.8)\n",
      "Requirement already satisfied: idna<4,>=2.5 in /home/ec2-user/anaconda3/envs/tensorflow2_p38/lib/python3.8/site-packages (from requests->ai21-python-client[SM]) (3.1)\n",
      "Requirement already satisfied: charset-normalizer~=2.0.0 in /home/ec2-user/anaconda3/envs/tensorflow2_p38/lib/python3.8/site-packages (from requests->ai21-python-client[SM]) (2.0.7)\n",
      "Requirement already satisfied: python-dateutil<3.0.0,>=2.1 in /home/ec2-user/anaconda3/envs/tensorflow2_p38/lib/python3.8/site-packages (from botocore<1.30.0,>=1.29.8->boto3->ai21-python-client[SM]) (2.8.2)\n",
      "Requirement already satisfied: six>=1.5 in /home/ec2-user/anaconda3/envs/tensorflow2_p38/lib/python3.8/site-packages (from python-dateutil<3.0.0,>=2.1->botocore<1.30.0,>=1.29.8->boto3->ai21-python-client[SM]) (1.16.0)\n",
      "\u001b[33mWARNING: You are using pip version 22.0.4; however, version 22.3.1 is available.\n",
      "You should consider upgrading via the '/home/ec2-user/anaconda3/envs/tensorflow2_p38/bin/python -m pip install --upgrade pip' command.\u001b[0m\u001b[33m\n",
      "\u001b[0m"
     ]
    }
   ],
   "source": [
    "! pip install -U ai21-python-client[SM]\n",
    "import ai21"
   ]
  },
  {
   "cell_type": "code",
   "execution_count": 4,
   "metadata": {},
   "outputs": [],
   "source": [
    "region = boto3.Session().region_name\n",
    "if region not in model_package_map.keys():\n",
    "    raise (\"UNSUPPORTED REGION\")\n",
    "\n",
    "model_package_arn = model_package_map[region]"
   ]
  },
  {
   "cell_type": "code",
   "execution_count": 5,
   "metadata": {},
   "outputs": [],
   "source": [
    "role = get_execution_role()\n",
    "sagemaker_session = sage.Session()\n",
    "\n",
    "runtime_sm_client = boto3.client(\"runtime.sagemaker\")"
   ]
  },
  {
   "cell_type": "markdown",
   "metadata": {},
   "source": [
    "## 2. Create an endpoint and perform real-time inference"
   ]
  },
  {
   "cell_type": "markdown",
   "metadata": {},
   "source": [
    "If you want to understand how real-time inference with Amazon SageMaker works, see [Documentation](https://docs.aws.amazon.com/sagemaker/latest/dg/deploy-model.html)."
   ]
  },
  {
   "cell_type": "code",
   "execution_count": 9,
   "metadata": {},
   "outputs": [],
   "source": [
    "model_name = \"j1-large\"\n",
    "\n",
    "content_type = \"application/json\"\n",
    "\n",
    "real_time_inference_instance_type = (\n",
    "    \"ml.g5.4xlarge\"\n",
    ")"
   ]
  },
  {
   "cell_type": "markdown",
   "metadata": {},
   "source": [
    "### A. Create an endpoint"
   ]
  },
  {
   "cell_type": "code",
   "execution_count": 9,
   "metadata": {},
   "outputs": [
    {
     "name": "stdout",
     "output_type": "stream",
     "text": [
      "---------------!"
     ]
    }
   ],
   "source": [
    "# create a deployable model from the model package.\n",
    "model = ModelPackage(\n",
    "    role=role, model_package_arn=model_package_arn, sagemaker_session=sagemaker_session\n",
    ")\n",
    "\n",
    "# Deploy the model\n",
    "predictor = model.deploy(1, real_time_inference_instance_type, endpoint_name=model_name, \n",
    "                         model_data_download_timeout=3600,\n",
    "                         container_startup_health_check_timeout=600,\n",
    "                        )"
   ]
  },
  {
   "cell_type": "markdown",
   "metadata": {},
   "source": [
    "Once endpoint has been created, you would be able to perform real-time inference."
   ]
  },
  {
   "cell_type": "markdown",
   "metadata": {},
   "source": [
    "### B. Create an input prompt"
   ]
  },
  {
   "cell_type": "markdown",
   "metadata": {},
   "source": [
    "You can think of Jurassic-1 Large as a smart auto-completion algorithm: it is very good at latching on to hints and patterns expressed in plain English, and generating text that follows the same patterns.\n",
    "Here are two words you should know:\n",
    "- **Prompt** - the input you provide to the model.\n",
    "- **Completion** - the output text the model generated.\n",
    "\n",
    "The best way to guide the model is to provide several examples, consisting of input-output pairs, in the prompt. The last example should be input only, as the model is expected to complete it.\n",
    "In order to help the model distinguish between each example, we use a stop sequence. The stop sequence itself should be immediately recognizeable when you look at the text as a whole.\n",
    "\n",
    "In this example, we will analyze freeform hotel reviews, both extracting the categories the dicussed in each review and the sentiment associated with it (Positive/Negative). We will then create a clear visual dashboard."
   ]
  },
  {
   "cell_type": "code",
   "execution_count": 12,
   "metadata": {},
   "outputs": [],
   "source": [
    "# Load reviews that were collected from Hotels.com\n",
    "# This is an array which contains 106 reviews\n",
    "with open(\"data/hotelsReviews.json\", \"r\") as fp:\n",
    "    reviews = json.load(fp)"
   ]
  },
  {
   "cell_type": "markdown",
   "metadata": {},
   "source": [
    "The prompt comprised from the following:\n",
    "1. Few-shot examples: pairs of input-output pairs. In this case, the input is a review and the output is a JSON dictionary containing the categories discussed in the review and their sentiment. They are separated by the following stop sequence: ##.\n",
    "For example:\n",
    "\n",
    "    *Review:\n",
    "    Was overall a good stay. We decided last minute to stay another night. No one really went out of their way to help us stay in the same room so we had to check out and go to a new room. It’s okay tho I understand some of those things are out of some hands.  It also worked out bec our first room’s AC didn’t seem to be working. If I had to complain about one thing, we got a “new” towel from the shower rack (folded) to dry off and the towel smelled like fresh vomit. That was pretty gross. Didn’t really have any other issues other than that. The hotel Is beautiful. \n",
    "    Extracted sentiment:\n",
    "    {\"Cleaning\": \"Negative\", \"AC\": \"Negative\", \"Room Quality\": \"Positive\", \"Service\": \"Negative\"}*\n",
    "\n",
    "2. A review to analyze. It should be written in the same format as all the examples.\n",
    "\n",
    "The following function gets a new reviews and creates a few-shot prompt to send to Jurassic-1 Large:"
   ]
  },
  {
   "cell_type": "code",
   "execution_count": 7,
   "metadata": {},
   "outputs": [],
   "source": [
    "def create_review_prompt(review):\n",
    "    few_shot_examples = \"Review:\\nExtremely old cabinets, phone was half broken and full of dust. Bathroom door was broken, bathroom floor was dirty and yellow. Bathroom tiles were falling off. Asked to change my room and the next room was in the same conditions.  \\n\\nThe most out of date and least maintained hotel i ever been on.\\nExtracted sentiment:\\n{\\\"Cleaning\\\": \\\"Negative\\\", \\\"Hotel Facilities\\\": \\\"Negative\\\", \\\"Room Quality\\\": \\\"Negative\\\"}\\n##\\nReview:\\nWe were not checked in timely. We got room with broken window, no light. Bathroom door was broken and kept on locking out on us. We had maintenance service pass midnite keeping us up.  Hotel smelled on smoke and marihuana. Unacceptable! Full refund requested. \\nFront desk lady upon check out was rude.\\nExtracted sentiment:\\n{\\\"Service\\\": \\\"Negative\\\", \\\"Room Quality\\\": \\\"Negative\\\", \\\"Hotel Facilities\\\": \\\"Negative\\\"}\\n##\\nReview:\\nGreat experience for two  teenagers. We would book again. Location good. \\nExtracted sentiment:\\n{\\\"Location\\\": \\\"Positive\\\"}\\n##\\nReview:\\nWas overall a good stay. We decided last minute to stay another night. No one really went out of their way to help us stay in the same room so we had to check out and go to a new room. It’s okay tho I understand some of those things are out of some hands.  It also worked out bec our first room’s AC didn’t seem to be working. If I had to complain about one thing, we got a “new” towel from the shower rack (folded) to dry off and the towel smelled like fresh vomit. That was pretty gross. Didn’t really have any other issues other than that. The hotel Is beautiful. \\nExtracted sentiment:\\n{\\\"Cleaning\\\": \\\"Negative\\\", \\\"AC\\\": \\\"Negative\\\", \\\"Room Quality\\\": \\\"Positive\\\", \\\"Service\\\": \\\"Negative\\\"}\\n##\\nReview:\\nPool area was definitely a little run down and did not look like the pics online at all. Bathroom in the double room was kind of dumpy. \\nExtracted sentiment:\\n{\\\"Pool\\\": \\\"Negative\\\", \\\"Room Quality\\\": \\\"Negative\\\"}\\n##\\nReview:\\nRoof top's view is gorgeous and the lounge area is comfortable.  The staff is very courteous and the location is great.  The hotel is outdated and the shower need to be clean better.  The air condition runs all the time and cannot be control by the temperature control setting.  \\nExtracted sentiment:\\n{\\\"Cleaning\\\": \\\"Negative\\\", \\\"AC\\\": \\\"Negative\\\", \\\"Room Quality\\\": \\\"Negative\\\", \\\"Service\\\": \\\"Positive\\\", \\\"View\\\": \\\"Positive\\\", \\\"Hotel Facilities\\\": \\\"Positive\\\"}\\n## \\nReview:\\nFirst I was placed near the elevator where it was noises, the TV is not updated, the toilet was coming on and off. There was no temp control and my shower curtain smelled moldy. Not sure what happened to this place but only thing was a great location.\\nExtracted sentiment:\\n{\\\"Cleaning\\\": \\\"Negative\\\", \\\"AC\\\": \\\"Negative\\\", \\\"Room Quality\\\": \\\"Negative\\\", \\\"Location\\\": \\\"Positive\\\"}\\n##\\nReview:\\nThis is a very well located hotel and it’s nice and clean.  Would stay here again.  \\nExtracted sentiment:\\n{\\\"Cleaning\\\": \\\"Positive\\\", \\\"Location\\\": \\\"Positive\\\"}\\n##\\nReview:\\nHotel is horrendous. The room was dark and dirty. No toilet paper in the bathroom. Came here on a work trip and had zero access to WiFi even though their hotel claims to have WiFi service. I will NEVER return.\\nExtracted sentiment:\\n{\\\"Cleaning\\\": \\\"Negative\\\", \\\"WiFi\\\": \\\"Negative\\\", \\\"Room Quality\\\": \\\"Negative\\\", \\\"Service\\\": \\\"Negative\\\"}\\n##\\nReview:\\nThe rooms are small but clean and comfortable. The front desk was really busy and the lines for check-in were very long but the staff handled each person in a professional and very pleasant way. We will stay there again.\\nExtracted sentiment:\\n{\\\"Cleaning\\\": \\\"Positive\\\", \\\"Service\\\": \\\"Positive\\\"}\\n##\\nReview:\\nThe stay was very nice would stay again. The pool closes at 7 pm and doesn’t  open till 11am m. That sucked. Also our wifi went out the entire last day we were there. Thats sucked too. Overall was a nice enough stay and I love the location.\\nExtracted sentiment:\\n{\\\"Pool\\\": \\\"Negative\\\", \\\"WiFi\\\": \\\"Negative\\\", \\\"Location\\\": \\\"Positive\\\"}\\n##\\nReview:\\nTheir duvets do not come with covers. Not sure if they wash or change them for every customer. I doubt that they buy new comforters for every guest. \\nWifi is too slow and does not provide access in some parts of the room (the room is small).\\nCustomer service is not very impressive. Housekeeping forgets to bring requested items.\\nYou cannot use phone to connect with front desk or housekeeping. You will have to go downstairs to the front desk in person.\\nHot water takes a long time to come.\\nExtracted sentiment:\\n{\\\"Cleaning\\\": \\\"Negative\\\", \\\"Hotel Facilities\\\": \\\"Negative\\\", \\\"Room Quality\\\": \\\"Negative\\\", \\\"Service\\\": \\\"Negative\\\", \\\"WiFi\\\": \\\"Negative\\\"}\\n##\\nReview:\\nI will never stay here again. They said they didn’t have my booking and told me they couldn’t help me. I had to ask for a supervisor to assist me. They told me that my room wasn’t ready but 4 other ppl checked in and rooms were ready. They promised that they will call me when the room was ready and never did.The pool is a max capacity of 10. The rooms are not clean and bathroom smelled like the suer line. Ac didn’t work properly and didn’t have towels. \\nExtracted sentiment:\\n{\\\"Cleaning\\\": \\\"Negative\\\", \\\"AC\\\": \\\"Negative\\\", \\\"Room Quality\\\": \\\"Negative\\\", \\\"Service\\\": \\\"Negative\\\", \\\"Pool\\\": \\\"Negative\\\"}\\n##\\nReview:\\nIt's very convenient. Everything is right at your fingertips. Make sure you wear proper shoes for walking.\\nExtracted sentiment:\\n{\\\"Location\\\": \\\"Positive\\\"}\\n##\\nReview:\\nGreat location and friendly staff, the hotel is beautifully appointed, but it is a dump underneath the lipstick.  Rooms are nice sized for NYC, but A/C didnt work in multiple different (3) rooms, showers don’t drain, no hot water in our first of three rooms and a horrible smell in the lobby and hallways for 2 days.  \\nExtracted sentiment:\\n{\\\"AC\\\": \\\"Negative\\\", \\\"Room Quality\\\": \\\"Negative\\\", \\\"Hotel Facilities\\\": \\\"Negative\\\", \\\"Service\\\": \\\"Positive\\\", \\\"Location\\\": \\\"Positive}\\n##\\nReview:\\nJust what we wanted clean comfy beds.convenient parking across street at Lincoln center. Walking distance to Central Park, museums and Times Square. Also close to metro.\\nExtracted sentiment:\\n{\\\"Location\\\": \\\"Positive\\\", \\\"Cleaning\\\": \\\"Positive\\\"}\\n##\\nReview:\\nThe first room they gave us was abysmal--noisy, A/C didn't work properly. They moved us to another room which was a bit better, but no instructions on how to work the tv; one phone didn't work, they didn't give us new towels when asked and I could go on and on. The rooms definitely need major updating! For the price the value was not good.\\nExtracted sentiment:\\n{\\\"AC\\\": \\\"Negative\\\", \\\"Room Quality\\\": \\\"Negative\\\", \\\"Hotel Facilities\\\": \\\"Negative\\\", \\\"Service\\\": \\\"Negative\\\"}\\n##\\nReview:\\nThe staff at Empire are very accommodating. However, the hotel rugs in the elevator and hallways were filthy. It is not just an old hotel. After trying two rooms, third time was a charm for a room that did not have a moldy smell. \\nExtracted sentiment:\\n{\\\"Cleaning\\\": \\\"Negative\\\", \\\"Hotel Facilities\\\": \\\"Negative\\\", \\\"Room Quality\\\": \\\"Negative\\\", \\\"Service\\\": \\\"Positive\\\"}\\n##\\nReview:\\nLocation, location, location!  You are virtually steps away from Lincoln Center and a few more to Juliard. Then it’s a hop skip and jump to Central Park and Columbus Circle.\\nThe lobby and door staff were exceptionally friendly and helpful. And special kudos to the cleaning staff. They didn’t miss a beat and kept our room and the hallways immaculately clean.\\nThe wi-fi really sucks! Can’t believe they are allowed to claim it as an amenity.\\nThe rooftop lounge allows you to overlook the wi-fi.\\nExtracted sentiment:\\n{\\\"Location\\\": \\\"Positive\\\", \\\"Cleaning\\\": \\\"Positive\\\", \\\"Service\\\": \\\"Positive\\\", \\\"WiFi\\\": \\\"Negative\\\"}\\n##Review:\\n\"\n",
    "    prompt = few_shot_examples + review + \"\\nExtracted sentiment:\\n\"\n",
    "    return prompt"
   ]
  },
  {
   "cell_type": "markdown",
   "metadata": {},
   "source": [
    "<Add code snippet that shows the payload contents>"
   ]
  },
  {
   "cell_type": "markdown",
   "metadata": {},
   "source": [
    "### C. Perform real-time inference"
   ]
  },
  {
   "cell_type": "markdown",
   "metadata": {},
   "source": [
    "Time to put Jurassic-1 Large to work!\n",
    "\n",
    "Go through all the reviews in the list and call the model on each of them (with the appropriate prompt, of course).\n",
    "Collect all the sentiments in a list"
   ]
  },
  {
   "cell_type": "code",
   "execution_count": 8,
   "metadata": {},
   "outputs": [
    {
     "name": "stderr",
     "output_type": "stream",
     "text": [
      "100%|██████████| 106/106 [02:34<00:00,  1.46s/it]\n"
     ]
    }
   ],
   "source": [
    "sentiments = []\n",
    "for review in tqdm(reviews):\n",
    "    prompt = create_review_prompt(review.strip())\n",
    "  \n",
    "    response = ai21.Completion.execute(sm_endpoint=\"j1-large\",\n",
    "                                       prompt=prompt,\n",
    "                                       maxTokens=150,\n",
    "                                       temperature=0,\n",
    "                                       stopSequences=['##'])\n",
    "\n",
    "    sentiments.append(response['completions'][0]['data']['text'])"
   ]
  },
  {
   "cell_type": "markdown",
   "metadata": {},
   "source": [
    "Take a look at an arbitrary review and sentiment:"
   ]
  },
  {
   "cell_type": "code",
   "execution_count": 12,
   "metadata": {},
   "outputs": [
    {
     "name": "stdout",
     "output_type": "stream",
     "text": [
      "Review:\n",
      "Air conditioner/heater broke the first night. Repairman in room at 10pm working on it. Thought he fixed it but the room ended up being 78 all night. Next day, Pasqual moved us to a new room. Unfortunately, we had to come back to the hotel from 3-5pm time period to make the switch. He was awesome. Gave us a room with a great view; however, the sink backed up and wouldn’t drain in the new room. Feel like this hotel needs some major repair work done. Main lights on iconic roof sign had letters out. \n",
      "=======================\n",
      "Sentiments:\n",
      "{\"AC\": \"Negative\", \"Room Quality\": \"Negative\", \"Hotel Facilities\": \"Negative\", \"Service\": \"Negative\"}\n",
      "\n"
     ]
    }
   ],
   "source": [
    "i = 40\n",
    "print(\"Review:\\n\" + reviews[i])\n",
    "print(\"=======================\")\n",
    "print(\"Sentiments:\\n\" + sentiments[i])"
   ]
  },
  {
   "cell_type": "markdown",
   "metadata": {},
   "source": [
    "### D. Create the dashboard"
   ]
  },
  {
   "cell_type": "markdown",
   "metadata": {},
   "source": [
    "These functions take all the extracted categories and sentiments, and do the following:\n",
    "1. Gather all of the categories together, assigning a count of \"Positive\" or \"Negative\" to each category.\n",
    "2. Take the top count categories to display in the dashboard"
   ]
  },
  {
   "cell_type": "code",
   "execution_count": 13,
   "metadata": {},
   "outputs": [],
   "source": [
    "scores, category_names = get_topK_categories_and_score(sentiments, k=5)"
   ]
  },
  {
   "cell_type": "code",
   "execution_count": 14,
   "metadata": {},
   "outputs": [
    {
     "data": {
      "image/png": "[encoded data removed]",
      "text/plain": [
       "<Figure size 720x360 with 1 Axes>"
      ]
     },
     "metadata": {},
     "output_type": "display_data"
    }
   ],
   "source": [
    "fig, ax = plot_dashboard(scores, category_names)\n",
    "plt.show()"
   ]
  },
  {
   "cell_type": "markdown",
   "metadata": {},
   "source": [
    "### Interested in learning more?\n",
    "Take a look at our [blog post](https://www.ai21.com/blog/build-a-dashboard-based-on-freeform-sentiment-analysis-of-hotel-reviews) to understand the process of building a good prompt."
   ]
  },
  {
   "cell_type": "markdown",
   "metadata": {},
   "source": [
    "### E. Delete the endpoint"
   ]
  },
  {
   "cell_type": "markdown",
   "metadata": {},
   "source": [
    "Now that you have successfully performed a real-time inference, you do not need the endpoint any more. You can terminate the endpoint to avoid being charged."
   ]
  },
  {
   "cell_type": "code",
   "execution_count": null,
   "metadata": {},
   "outputs": [],
   "source": [
    "model.sagemaker_session.delete_endpoint(model_name)\n",
    "model.sagemaker_session.delete_endpoint_config(model_name)"
   ]
  },
  {
   "cell_type": "markdown",
   "metadata": {},
   "source": [
    "## 4. Clean-up"
   ]
  },
  {
   "cell_type": "markdown",
   "metadata": {},
   "source": [
    "### A. Delete the model"
   ]
  },
  {
   "cell_type": "code",
   "execution_count": 75,
   "metadata": {},
   "outputs": [],
   "source": [
    "model.delete_model()"
   ]
  }
 ],
 "metadata": {
  "instance_type": "ml.t3.medium",
  "kernelspec": {
   "display_name": "conda_tensorflow2_p38",
   "language": "python",
   "name": "conda_tensorflow2_p38"
  },
  "language_info": {
   "codemirror_mode": {
    "name": "ipython",
    "version": 3
   },
   "file_extension": ".py",
   "mimetype": "text/x-python",
   "name": "python",
   "nbconvert_exporter": "python",
   "pygments_lexer": "ipython3",
   "version": "3.8.12"
  }
 },
 "nbformat": 4,
 "nbformat_minor": 4
}
