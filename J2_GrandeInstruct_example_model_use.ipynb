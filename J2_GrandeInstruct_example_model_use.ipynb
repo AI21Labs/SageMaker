{
 "cells": [
  {
   "cell_type": "markdown",
   "metadata": {},
   "source": [
    "# Using Jurassic-2 Grande Instruct on SageMaker through Model Packages\n",
    "\n",
    "## <span style='color:Red'>THIS MODEL HAS A NEW NAME</span>\n",
    "\n",
    "### The model you are looking for is now called [Jurassic-2 Mid](https://github.com/AI21Labs/SageMaker/blob/main/J2_Mid_example_model_use.ipynb)."
   ]
  }
 ],
 "metadata": {
  "instance_type": "ml.t3.medium",
  "kernelspec": {
   "display_name": "Python 3 (ipykernel)",
   "language": "python",
   "name": "python3"
  },
  "language_info": {
   "codemirror_mode": {
    "name": "ipython",
    "version": 3
   },
   "file_extension": ".py",
   "mimetype": "text/x-python",
   "name": "python",
   "nbconvert_exporter": "python",
   "pygments_lexer": "ipython3",
   "version": "3.9.6"
  }
 },
 "nbformat": 4,
 "nbformat_minor": 4
}
