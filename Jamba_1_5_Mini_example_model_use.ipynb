{
 "cells": [
  {
   "cell_type": "markdown",
   "metadata": {},
   "source": [
    "# Using Jamba 1.5 Mini on SageMaker through Model Packages\n",
    "\n",
    "This sample notebook shows you how to deploy **Jamba 1.5 Mini** using Amazon SageMaker.\n",
    "\n",
    "\n",
    "--------------------\n",
    "## <font color='orange'>Important:</font>\n",
    "Please visit model detail page in <a href=\"https://aws.amazon.com/marketplace/pp/prodview-fnof2toffbfbg\">https://aws.amazon.com/marketplace/pp/prodview-fnof2toffbfbg</a> to learn more. <font color='orange'>If you do not have access to the link, please contact account admin for the help.</font>\n",
    "\n",
    "You will find details about the model including pricing, supported region, and end user license agreement. To use the model, please click “<font color='orange'>Continue to Subscribe</font>” from the detail page, come back here and learn how to deploy and inference.\n",
    "\n",
    "\n",
    "-------------------\n",
    "\n",
    "Jamba 1.5 Mini is the first of its kind hybrid Mamba-Transformer architecture at a production grade level offering unmatched efficiency. With an unprecedented context window length (256K) in a smaller model, it offers high quality output for tasks needing large input context & low latency, at a competitive price point.\n",
    "\n",
    "\n",
    "## Pre-requisites:\n",
    "1. Before running this notebook, please make sure you got this notebook from the model catalog on SageMaker AWS Management Console.\n",
    "1. **Note**: This notebook contains elements which render correctly in Jupyter interface. Open this notebook from an Amazon SageMaker Notebook Instance or Amazon SageMaker Studio.\n",
    "1. Ensure that IAM role used has **AmazonSageMakerFullAccess**.\n",
    "1. This notebook is intended to work with **boto3 v1.25.4** or higher.\n",
    "\n",
    "## Contents:\n",
    "1. [Select model package](#1.-Select-model-package)\n",
    "1. [Create an endpoint and perform real-time inference](#2.-Create-an-endpoint-and-perform-real-time-inference)\n",
    "   1. [Create an endpoint](#A.-Create-an-endpoint)\n",
    "   1. [Interact with the model](#B.-Interact-with-the-model)\n",
    "   1. [Prompt with instructions](#C.-Prompt-with-instructions)\n",
    "   1. [Prompt with examples](#D.-Prompt-with-examples)\n",
    "1. [Clean-up](#3.-Clean-up)\n",
    "   1. [Delete the endpoint](#A.-Delete-the-endpoint)\n",
    "   1. [Delete the model](#B.-Delete-the-model)\n",
    "    \n",
    "\n",
    "## Usage instructions\n",
    "You can run this notebook one cell at a time (By using Shift+Enter for running a cell)."
   ]
  },
  {
   "cell_type": "markdown",
   "metadata": {},
   "source": [
    "## Installations"
   ]
  },
  {
   "cell_type": "code",
   "metadata": {},
   "source": "!pip install boto3 requests --upgrade",
   "outputs": [],
   "execution_count": null
  },
  {
   "cell_type": "markdown",
   "metadata": {},
   "source": [
    "## Imports"
   ]
  },
  {
   "cell_type": "code",
   "metadata": {},
   "source": [
    "import json\n",
    "import boto3\n",
    "import requests"
   ],
   "outputs": [],
   "execution_count": null
  },
  {
   "cell_type": "markdown",
   "metadata": {},
   "source": [
    "### Check the version of boto3 - must be v1.25.4 or higher\n",
    "If you see a lower version number, pick another kernel to run the notebook, with Python 3.8 or above"
   ]
  },
  {
   "cell_type": "code",
   "metadata": {},
   "source": [
    "boto3.__version__"
   ],
   "outputs": [],
   "execution_count": null
  },
  {
   "cell_type": "markdown",
   "metadata": {},
   "source": [
    "## 1. Select model package\n",
    "Confirm that you received this notebook from the model catalog in SageMaker AWS Management Console."
   ]
  },
  {
   "metadata": {},
   "cell_type": "markdown",
   "source": "Get latest model package ARN"
  },
  {
   "cell_type": "code",
   "metadata": {},
   "source": [
    "region = boto3.Session().region_name\n",
    "model_name = \"jamba-1-5-mini\"\n",
    "version = \"latest\"\n",
    "\n",
    "# Get the updated ARN\n",
    "model_package_arn_payload = {\"modelName\": model_name, \"version\": version, \"region\": region}\n",
    "get_model_package_arn_url = \"https://api.ai21.com/studio/v1/jumpstart/get_model_version_arn\"\n",
    "model_package_arn_response = requests.post(get_model_package_arn_url, json=model_package_arn_payload)\n",
    "model_package_arn = model_package_arn_response.json()[\"arn\"]"
   ],
   "outputs": [],
   "execution_count": null
  },
  {
   "cell_type": "code",
   "metadata": {},
   "source": [
    "# Set SageMaker execution role ARN\n",
    "sagemaker_execution_role_arn = input(\"Please enter the SageMaker execution role ARN: \")"
   ],
   "outputs": [],
   "execution_count": null
  },
  {
   "cell_type": "markdown",
   "metadata": {},
   "source": [
    "## 2. Create an endpoint and perform real-time inference"
   ]
  },
  {
   "cell_type": "markdown",
   "metadata": {},
   "source": [
    "If you want to understand how real-time inference with Amazon SageMaker works, see [Documentation](https://docs.aws.amazon.com/sagemaker/latest/dg/deploy-model.html)."
   ]
  },
  {
   "cell_type": "code",
   "metadata": {},
   "source": [
    "endpoint_name = \"jamba-1-5-mini-notebook-test\"\n",
    "\n",
    "content_type = \"application/json\"\n",
    "\n",
    "real_time_inference_instance_type = (\n",
    "    \"ml.p4de.24xlarge\"\n",
    ")"
   ],
   "outputs": [],
   "execution_count": null
  },
  {
   "cell_type": "markdown",
   "metadata": {},
   "source": [
    "### A. Create an endpoint"
   ]
  },
  {
   "metadata": {},
   "cell_type": "code",
   "outputs": [],
   "execution_count": null,
   "source": "sm_client = boto3.client('sagemaker', region_name=region)"
  },
  {
   "cell_type": "code",
   "metadata": {},
   "source": [
    "# create model\n",
    "model = sm_client.create_model(\n",
    "    ModelName=endpoint_name,\n",
    "    ExecutionRoleArn=sagemaker_execution_role_arn,\n",
    "    PrimaryContainer={\n",
    "        'ModelPackageName': model_package_arn,\n",
    "    },\n",
    "    EnableNetworkIsolation=True,\n",
    ")"
   ],
   "outputs": [],
   "execution_count": null
  },
  {
   "metadata": {},
   "cell_type": "code",
   "source": [
    "# create endpoint config\n",
    "endpoint_config = sm_client.create_endpoint_config(\n",
    "    EndpointConfigName=endpoint_name,\n",
    "    ProductionVariants=[{\n",
    "        'InstanceType': real_time_inference_instance_type,\n",
    "        'InitialInstanceCount': 1,\n",
    "        'ModelName': endpoint_name,\n",
    "        'VariantName': 'variant1',\n",
    "        'ModelDataDownloadTimeoutInSeconds': 3600,\n",
    "        'InferenceAmiVersion': 'al2-ami-sagemaker-inference-gpu-2',\n",
    "    }]\n",
    ")"
   ],
   "outputs": [],
   "execution_count": null
  },
  {
   "metadata": {},
   "cell_type": "code",
   "source": [
    "# create endpoint\n",
    "endpoint = sm_client.create_endpoint(\n",
    "    EndpointName=endpoint_name,\n",
    "    EndpointConfigName=endpoint_name,\n",
    ")"
   ],
   "outputs": [],
   "execution_count": null
  },
  {
   "cell_type": "markdown",
   "metadata": {},
   "source": [
    "Once endpoint has been created, you would be able to perform real-time inference."
   ]
  },
  {
   "metadata": {},
   "cell_type": "code",
   "outputs": [],
   "execution_count": null,
   "source": "sm_runtime = boto3.client(\"sagemaker-runtime\")"
  },
  {
   "metadata": {},
   "cell_type": "code",
   "source": [
    "# Invoke the endpoint\n",
    "messages = [{\"role\": \"user\", \"content\": \"Tell me a joke about pokemons\"}]\n",
    "input_json = json.dumps({\"messages\": messages})\n",
    "\n",
    "response = sm_runtime.invoke_endpoint(\n",
    "    EndpointName=endpoint_name,\n",
    "    Accept=\"application/json\",\n",
    "    Body=input_json,\n",
    ")\n",
    "\n",
    "print(json.load(response[\"Body\"]))"
   ],
   "outputs": [],
   "execution_count": null
  },
  {
   "metadata": {},
   "cell_type": "code",
   "source": [
    "# Invoke the endpoint - streaming\n",
    "messages = [{\"role\": \"user\", \"content\": \"How are you?\"}]\n",
    "input_json = json.dumps({\"messages\": messages, \"max_tokens\": 10})\n",
    "\n",
    "response = sm_runtime.invoke_endpoint_with_response_stream(\n",
    "    EndpointName=endpoint_name,\n",
    "    Accept=\"application/json\",\n",
    "    Body=input_json,\n",
    ")\n",
    "\n",
    "for event in response['Body']:\n",
    "    print(event['PayloadPart']['Bytes'].decode('utf-8'))"
   ],
   "outputs": [],
   "execution_count": null
  },
  {
   "metadata": {},
   "cell_type": "code",
   "source": [
    "# delete endpoint\n",
    "\n",
    "sm_client.delete_endpoint(EndpointName=endpoint_name)"
   ],
   "outputs": [],
   "execution_count": null
  }
 ],
 "metadata": {
  "instance_type": "ml.t3.medium",
  "kernelspec": {
   "display_name": "Python 3 (ipykernel)",
   "language": "python",
   "name": "python3"
  },
  "language_info": {
   "codemirror_mode": {
    "name": "ipython",
    "version": 3
   },
   "file_extension": ".py",
   "mimetype": "text/x-python",
   "name": "python",
   "nbconvert_exporter": "python",
   "pygments_lexer": "ipython3",
   "version": "3.9.6"
  }
 },
 "nbformat": 4,
 "nbformat_minor": 4
}
